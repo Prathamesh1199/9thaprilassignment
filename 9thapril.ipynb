{
 "cells": [
  {
   "cell_type": "code",
   "execution_count": null,
   "id": "47c02df4-401e-4016-8d2d-5890ead7c56b",
   "metadata": {},
   "outputs": [],
   "source": [
    "1:\n",
    "  Bayes theorem is a mathematical formula that describes the probability of an event occurring based\n",
    "on prior knowledge or information. It is named after the 18th-century British statistician Thomas Bayes.\n",
    "The theorem calculates the probability of a hypothesis being true based on new data or evidence that is \n",
    "observed.\n"
   ]
  },
  {
   "cell_type": "code",
   "execution_count": null,
   "id": "00224ddb-bddf-4a07-ae59-0c0d6a48da9d",
   "metadata": {},
   "outputs": [],
   "source": []
  },
  {
   "cell_type": "code",
   "execution_count": null,
   "id": "f7afa399-b850-43c4-b267-1aff05a5d9ab",
   "metadata": {},
   "outputs": [],
   "source": [
    "2:\n",
    " The formula can be expressed as\n",
    "\n",
    "              P(A|B) = P(B|A) * P(A) / P(B),\n",
    "\n",
    "where A and B are events, P(A) and P(B) are the probabilities of events A and B respectively,\n",
    "and P(B|A) is the probability of B given that A has occurred.   "
   ]
  },
  {
   "cell_type": "code",
   "execution_count": null,
   "id": "53e4101f-cf24-4139-842e-7c6e5a417ece",
   "metadata": {},
   "outputs": [],
   "source": []
  },
  {
   "cell_type": "code",
   "execution_count": null,
   "id": "d1e20e84-bb45-44b5-a46a-d5cbf313802c",
   "metadata": {},
   "outputs": [],
   "source": [
    "3:\n",
    "  Bayes theorem is used in a variety of fields, including statistics, machine learning, and artificial intelligence. \n",
    "It is used to update probabilities based on new information, which can be useful in making predictions or decisions.\n",
    "\n",
    "For example, in medicine, Bayes theorem can be used to calculate the probability of a patient having a disease based\n",
    "on the results of a diagnostic test. In finance, it can be used to estimate the probability of a stock price increasing\n",
    "or decreasing based on past trends. In natural language processing, it can be used to improve the accuracy of language\n",
    "models by updating the probabilities of certain words or phrases based on the context of the sentence. \n",
    "\n",
    "Overall, Bayes theorem is a powerful tool that can be used to make informed decisions in a wide range of applications."
   ]
  },
  {
   "cell_type": "code",
   "execution_count": null,
   "id": "033570e3-ecd1-454b-b517-06edce5f4120",
   "metadata": {},
   "outputs": [],
   "source": []
  },
  {
   "cell_type": "code",
   "execution_count": null,
   "id": "f68d9bcd-3c7f-4482-a137-449b53f2a9ab",
   "metadata": {},
   "outputs": [],
   "source": [
    "4:\n",
    "  Bayes theorem and conditional probability are related concepts. Conditional probability is the probability\n",
    "of an event occurring given that another event has occurred. Bayes theorem is a way to update conditional \n",
    "probabilities based on new evidence or information.\n",
    "\n",
    "Specifically, Bayes theorem states that the probability of event A given event B (P(A|B)) is equal to the \n",
    "probability of event B given event A (P(B|A)) multiplied by the prior probability of event A (P(A)) divided\n",
    "by the prior probability of event B (P(B)).\n",
    "\n",
    "This formula allows us to update our prior beliefs about the probability of event A based on new information\n",
    "about event B. In other words, Bayes theorem helps us to update our estimates of conditional probabilities \n",
    "based on new evidence.  "
   ]
  },
  {
   "cell_type": "code",
   "execution_count": null,
   "id": "d7eeed77-5448-40c9-8a7b-b570369f3acb",
   "metadata": {},
   "outputs": [],
   "source": []
  },
  {
   "cell_type": "code",
   "execution_count": null,
   "id": "4c097249-ebf3-40ed-a35e-f26479b35ab1",
   "metadata": {},
   "outputs": [],
   "source": [
    "5:\n",
    "   There are three main types of Naive Bayes classifiers: Gaussian Naive Bayes, Multinomial Naive Bayes,\n",
    "and Bernoulli Naive Bayes.\n",
    "\n",
    "Gaussian Naive Bayes is used for continuous data, where the values are real numbers. This classifier assumes \n",
    "that the features follow a Gaussian or normal distribution.\n",
    "\n",
    "Multinomial Naive Bayes is used for discrete data, where the values are counts or frequencies. This classifier\n",
    "is commonly used in text classification problems, where each feature represents the frequency of a word in a document.\n",
    "\n",
    "Bernoulli Naive Bayes is used for binary data, where the values are either 0 or 1. This classifier is also commonly\n",
    "used in text classification problems, where each feature represents the presence or absence of a word in a document.\n",
    "\n",
    "The choice of which type of Naive Bayes classifier to use depends on the nature of the problem and the type of data\n",
    "that is available. In general, Gaussian Naive Bayes is used for continuous data, while Multinomial and Bernoulli \n",
    "Naive Bayes are used for discrete data. However, it is important to consider the assumptions made by each classifier\n",
    "and to evaluate their performance on the specific problem at hand. "
   ]
  },
  {
   "cell_type": "code",
   "execution_count": null,
   "id": "4d95fde2-1a3e-40ac-a32c-f44d141e42ee",
   "metadata": {},
   "outputs": [],
   "source": []
  },
  {
   "cell_type": "code",
   "execution_count": null,
   "id": "61fb2e37-02f6-4783-8ef2-a775f0c4756f",
   "metadata": {},
   "outputs": [],
   "source": [
    "6:\n",
    "  To use Naive Bayes to classify the new instance with X1=3 and X2=4, we first need to calculate the conditional probabilities for each class:\n",
    "P(A|X1=3,X2=4) = P(X1=3|A) * P(X2=4|A) * P(A) = (4/11) * (3/11) * (0.5) = 0.061 P(B|X1=3,X2=4) = P(X1=3|B) * P(X2=4|B) * P(B) = (1/7) * (3/7) * (0.5) = 0.023\n",
    "Since P(A|X1=3,X2=4) > P(B|X1=3,X2=4), Naive Bayes would predict that the new instance belongs to class A."
   ]
  },
  {
   "cell_type": "code",
   "execution_count": null,
   "id": "d260b010-ae9a-4795-a2ec-d8a1e8800ffa",
   "metadata": {},
   "outputs": [],
   "source": []
  },
  {
   "cell_type": "code",
   "execution_count": null,
   "id": "e52d530d-1edb-463d-8768-3a2d2957d482",
   "metadata": {},
   "outputs": [],
   "source": [
    "6:\n",
    "    \n",
    "To predict the class of a new instance with features X1=3 and X2=4 using Naive Bayes, we\n",
    "need to calculate the posterior probability of the instance belonging to each class given \n",
    "its features.\n",
    "\n",
    "According to Naive Bayes, the probability of a class given the features can be calculated\n",
    "as follows:\n",
    "\n",
    "     'P(Class | X1, X2) = P(X1, X2 | Class) * P(Class) / P(X1, X2)\n",
    "\n",
    "Since we assume equal prior probabilities for each class, P(Class) is the same for both classes and\n",
    "can be ignored.\n",
    "\n",
    "We can also assume that the features are independent given the class, so:\n",
    "\n",
    "      'P(X1, X2 | Class) = P(X1 | Class) * P(X2 | Class)\n",
    "\n",
    "Now, we can calculate the probabilities for both classes:\n",
    "\n",
    "P(A | X1=3, X2=4) = P(X1=3 | A) * P(X2=4 | A) / P(X1=3, X2=4)\n",
    "= 4/11 * 3/10 / (4/11 * 3/10 + 1/8 * 3/10)\n",
    "= 0.632\n",
    "\n",
    "P(B | X1=3, X2=4) = P(X1=3 | B) * P(X2=4 | B) / P(X1=3, X2=4)\n",
    "= 1/3 * 3/8 / (1/3 * 3/8 + 4/11 * 3/10)\n",
    "= 0.368\n",
    "\n",
    "   \"Therefore\", Naive Bayes would predict that the new instance belongs to class A, as it has the \n",
    "highest posterior probability of 0.632.    \n",
    "    \n",
    "    \n",
    "    \n",
    "    \n",
    "\n",
    "    "
   ]
  },
  {
   "cell_type": "code",
   "execution_count": null,
   "id": "eb6eb41b-6dff-49fd-9ea9-005dfa05c27c",
   "metadata": {},
   "outputs": [],
   "source": []
  },
  {
   "cell_type": "code",
   "execution_count": null,
   "id": "2f8c95e8-5d1a-4d30-bee5-3f97bcbc1d72",
   "metadata": {},
   "outputs": [],
   "source": []
  },
  {
   "cell_type": "code",
   "execution_count": null,
   "id": "583090f7-a533-46db-9a51-d93e51e296d2",
   "metadata": {},
   "outputs": [],
   "source": []
  },
  {
   "cell_type": "code",
   "execution_count": null,
   "id": "70afc28d-b9ac-4ead-8154-af880c27654b",
   "metadata": {},
   "outputs": [],
   "source": []
  },
  {
   "cell_type": "code",
   "execution_count": null,
   "id": "17338331-8b17-41c2-af31-46d77c0e2b41",
   "metadata": {},
   "outputs": [],
   "source": []
  },
  {
   "cell_type": "code",
   "execution_count": null,
   "id": "72fb162e-b6e8-4cdf-8096-69867484fc05",
   "metadata": {},
   "outputs": [],
   "source": []
  },
  {
   "cell_type": "code",
   "execution_count": null,
   "id": "b738cbf9-d32a-4015-85ba-fb1e03b3777f",
   "metadata": {},
   "outputs": [],
   "source": []
  }
 ],
 "metadata": {
  "kernelspec": {
   "display_name": "Python 3 (ipykernel)",
   "language": "python",
   "name": "python3"
  },
  "language_info": {
   "codemirror_mode": {
    "name": "ipython",
    "version": 3
   },
   "file_extension": ".py",
   "mimetype": "text/x-python",
   "name": "python",
   "nbconvert_exporter": "python",
   "pygments_lexer": "ipython3",
   "version": "3.10.8"
  }
 },
 "nbformat": 4,
 "nbformat_minor": 5
}
